{
 "cells": [
  {
   "cell_type": "code",
   "execution_count": 2,
   "id": "c655fb67",
   "metadata": {},
   "outputs": [],
   "source": [
    "import librosa\n",
    "import numpy as np\n",
    "import pickle\n",
    "\n",
    "def extract_features(file_name, mfcc, chroma, mel):\n",
    "    X, sample_rate = librosa.load(file_name, res_type='kaiser_fast')\n",
    "    if chroma:\n",
    "        stft = np.abs(librosa.stft(X))\n",
    "    result = np.array([])\n",
    "    if mfcc:\n",
    "        mfccs = np.mean(librosa.feature.mfcc(y=X, sr=sample_rate, n_mfcc=40).T, axis=0)\n",
    "        result = np.hstack((result, mfccs))\n",
    "    if chroma:\n",
    "        chroma = np.mean(librosa.feature.chroma_stft(S=stft, sr=sample_rate).T, axis=0)\n",
    "        result = np.hstack((result, chroma))\n",
    "    if mel:\n",
    "        mel = np.mean(librosa.feature.melspectrogram(y=X, sr=sample_rate).T, axis=0)\n",
    "        result = np.hstack((result, mel))\n",
    "    return result\n"
   ]
  },
  {
   "cell_type": "code",
   "execution_count": 3,
   "id": "37d74e38",
   "metadata": {},
   "outputs": [],
   "source": [
    "# Load the trained model\n",
    "with open('Emotion_Voice_Detection_Model.pkl', 'rb') as f:\n",
    "    model = pickle.load(f)"
   ]
  },
  {
   "cell_type": "code",
   "execution_count": 5,
   "id": "be110aa3",
   "metadata": {},
   "outputs": [
    {
     "name": "stdout",
     "output_type": "stream",
     "text": [
      "[[-3.91971313e+02  1.00803787e+02 -1.72665901e+01  2.85084190e+01\n",
      "   2.72902298e+00 -1.30852878e+00 -1.05466948e+01 -1.38149996e+01\n",
      "  -8.73557472e+00  1.53279531e+00 -1.76207581e+01 -7.88860130e+00\n",
      "   1.59145832e+00 -1.28953133e+01  3.54223919e+00 -8.49065602e-01\n",
      "  -2.17489948e+01  5.48428679e+00 -1.29554987e+01 -9.91064548e+00\n",
      "  -3.90079856e+00  5.52544236e-01 -7.65365410e+00  9.10882652e-01\n",
      "  -8.68913746e+00 -6.70777369e+00 -7.61405325e+00 -7.98972988e+00\n",
      "  -1.11798506e+01 -9.43590450e+00 -1.13217831e+01 -2.45731878e+00\n",
      "  -3.47149754e+00  2.74387646e+00  5.15350437e+00  7.25713491e+00\n",
      "   2.23359179e+00  2.18030953e+00 -7.95062661e-01 -3.24227214e+00\n",
      "   4.40987945e-01  4.53009188e-01  5.66745579e-01  5.59770226e-01\n",
      "   4.44227368e-01  5.19463122e-01  6.08677089e-01  6.03781700e-01\n",
      "   5.63772857e-01  4.96669441e-01  5.11118829e-01  4.80247110e-01\n",
      "   5.00779599e-04  1.16535777e-03  9.67952609e-03  1.71260368e-02\n",
      "   1.96208954e-02  4.58337963e-01  1.81982374e+00  4.27450359e-01\n",
      "   2.92459559e-02  1.17373113e-02  1.98835079e-02  4.84083258e-02\n",
      "   2.29468763e-01  1.30434370e+00  2.10517478e+00  1.08207250e+00\n",
      "   1.20302290e-01  2.13547144e-02  1.95781291e-02  8.02647769e-02\n",
      "   8.40869784e-01  4.27922440e+00  7.93098021e+00  3.97231865e+00\n",
      "   3.60018730e-01  2.14005977e-01  2.45141372e-01  4.01270390e-01\n",
      "   8.68624002e-02  4.23749357e-01  1.27696550e+00  1.25158989e+00\n",
      "   2.52762556e-01  1.29218429e-01  3.10375959e-01  1.56503797e-01\n",
      "   9.13317800e-02  1.38125509e-01  1.56666651e-01  5.92335127e-02\n",
      "   1.05248569e-02  9.99301672e-03  1.61795989e-02  6.31887233e-03\n",
      "   1.48546100e-02  4.41601463e-02  3.01455073e-02  3.77638675e-02\n",
      "   1.57976504e-02  1.88905317e-02  1.05050676e-01  2.83331633e-01\n",
      "   2.50535280e-01  5.66234924e-02  4.21696901e-02  2.42120638e-01\n",
      "   3.44752282e-01  3.19255918e-01  1.34155437e-01  8.51371065e-02\n",
      "   1.35893464e-01  8.94962475e-02  3.42493095e-02  6.19386956e-02\n",
      "   2.19591688e-02  2.48092301e-02  5.75404316e-02  2.93285754e-02\n",
      "   1.16479220e-02  1.15611432e-02  2.12806854e-02  2.23659389e-02\n",
      "   1.54168261e-02  1.75483935e-02  1.62513983e-02  2.21072435e-02\n",
      "   1.81157980e-02  1.33537373e-03  7.79735798e-04  9.01169144e-04\n",
      "   7.74285756e-04  9.69921413e-04  1.84716436e-03  4.14349232e-03\n",
      "   5.44421235e-03  1.54369557e-02  3.16432677e-02  4.68527414e-02\n",
      "   3.91616337e-02  4.24013138e-02  2.51398496e-02  8.01638793e-03\n",
      "   2.96998792e-03  1.22721947e-03  9.59911034e-04  6.81480044e-04\n",
      "   3.51458584e-04  5.33482933e-04  5.65848663e-04  1.09432696e-03\n",
      "   3.11804749e-03  6.33791275e-03  9.18583851e-03  6.28450979e-03\n",
      "   4.17474704e-03  2.89920997e-03  1.23350718e-03  7.47669023e-04\n",
      "   5.27730153e-04  6.69963541e-04  6.76291646e-04  6.02184678e-04\n",
      "   8.24983406e-04  1.02126237e-03  8.65137321e-04  6.04318862e-04\n",
      "   4.53533285e-04  1.74830711e-04  1.23567239e-04  7.88502948e-05\n",
      "   1.88540609e-04  3.37227801e-04  4.71585954e-04  3.20008898e-04\n",
      "   7.74254950e-05  9.17770285e-06  4.82260987e-07  9.34879107e-09]]\n"
     ]
    },
    {
     "data": {
      "text/plain": [
       "array(['happy'], dtype='<U7')"
      ]
     },
     "execution_count": 5,
     "metadata": {},
     "output_type": "execute_result"
    }
   ],
   "source": [
    "file = 'shreyas_happy.wav'\n",
    "ans =[]\n",
    "new_feature = extract_features(file, mfcc=True, chroma=True, mel=True)\n",
    "ans.append(new_feature)\n",
    "ans = np.array(ans)\n",
    "print(ans)\n",
    "model.predict(ans)"
   ]
  }
 ],
 "metadata": {
  "kernelspec": {
   "display_name": "Python 3 (ipykernel)",
   "language": "python",
   "name": "python3"
  },
  "language_info": {
   "codemirror_mode": {
    "name": "ipython",
    "version": 3
   },
   "file_extension": ".py",
   "mimetype": "text/x-python",
   "name": "python",
   "nbconvert_exporter": "python",
   "pygments_lexer": "ipython3",
   "version": "3.9.13"
  }
 },
 "nbformat": 4,
 "nbformat_minor": 5
}
